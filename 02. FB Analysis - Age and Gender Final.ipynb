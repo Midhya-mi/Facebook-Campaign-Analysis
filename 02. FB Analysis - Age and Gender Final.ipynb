{
 "cells": [
  {
   "cell_type": "code",
   "execution_count": 1,
   "metadata": {},
   "outputs": [],
   "source": [
    "#import libraries\n",
    "import pandas as pd\n",
    "import numpy as np\n",
    "import matplotlib.pyplot as plt\n",
    "import seaborn as sns\n",
    "sns.set(font_scale=1.2,style='darkgrid')\n",
    "\n",
    "%matplotlib inline\n",
    "\n",
    "import warnings\n",
    "warnings.filterwarnings(\"ignore\")"
   ]
  },
  {
   "cell_type": "code",
   "execution_count": 2,
   "metadata": {},
   "outputs": [
    {
     "data": {
      "text/html": [
       "<style>.container { width:100% !important; }</style>"
      ],
      "text/plain": [
       "<IPython.core.display.HTML object>"
      ]
     },
     "metadata": {},
     "output_type": "display_data"
    }
   ],
   "source": [
    "#change display into using full screen\n",
    "from IPython.core.display import display, HTML\n",
    "display(HTML(\"<style>.container { width:100% !important; }</style>\"))"
   ]
  },
  {
   "cell_type": "code",
   "execution_count": 5,
   "metadata": {},
   "outputs": [],
   "source": [
    "#import .csv file\n",
    "data= pd.read_csv(\"D:\\Python\\My Project\\Data files\\datafb.csv\")"
   ]
  },
  {
   "cell_type": "markdown",
   "metadata": {},
   "source": [
    "# 1. Data Exploration & Cleaning"
   ]
  },
  {
   "cell_type": "markdown",
   "metadata": {},
   "source": [
    "### 1. Have a first look at data"
   ]
  },
  {
   "cell_type": "code",
   "execution_count": 6,
   "metadata": {
    "scrolled": false
   },
   "outputs": [
    {
     "data": {
      "text/html": [
       "<div>\n",
       "<style scoped>\n",
       "    .dataframe tbody tr th:only-of-type {\n",
       "        vertical-align: middle;\n",
       "    }\n",
       "\n",
       "    .dataframe tbody tr th {\n",
       "        vertical-align: top;\n",
       "    }\n",
       "\n",
       "    .dataframe thead th {\n",
       "        text-align: right;\n",
       "    }\n",
       "</style>\n",
       "<table border=\"1\" class=\"dataframe\">\n",
       "  <thead>\n",
       "    <tr style=\"text-align: right;\">\n",
       "      <th></th>\n",
       "      <th>Campaign Name</th>\n",
       "      <th>Ad Set Name</th>\n",
       "      <th>Ad Name</th>\n",
       "      <th>Age</th>\n",
       "      <th>Gender</th>\n",
       "      <th>Campaign Name.1</th>\n",
       "      <th>Result Type</th>\n",
       "      <th>Results</th>\n",
       "      <th>Reach</th>\n",
       "      <th>Impressions</th>\n",
       "      <th>...</th>\n",
       "      <th>Landing Page Views</th>\n",
       "      <th>Link Clicks</th>\n",
       "      <th>Cost per Landing Page View</th>\n",
       "      <th>Result Rate</th>\n",
       "      <th>Clicks (All)</th>\n",
       "      <th>CPC (All)</th>\n",
       "      <th>CTR (All)</th>\n",
       "      <th>CPM (Cost per 1,000 Impressions)</th>\n",
       "      <th>Reporting Starts</th>\n",
       "      <th>Reporting Ends</th>\n",
       "    </tr>\n",
       "  </thead>\n",
       "  <tbody>\n",
       "    <tr>\n",
       "      <th>0</th>\n",
       "      <td>NGK- Web traffic- Admission campaign 2020</td>\n",
       "      <td>Aeronautical-students</td>\n",
       "      <td>Aeronautical-students</td>\n",
       "      <td>18-24</td>\n",
       "      <td>male</td>\n",
       "      <td>NGK- Web traffic- Admission campaign 2020</td>\n",
       "      <td>Link Clicks</td>\n",
       "      <td>83.0</td>\n",
       "      <td>34944</td>\n",
       "      <td>51177</td>\n",
       "      <td>...</td>\n",
       "      <td>21.0</td>\n",
       "      <td>83.0</td>\n",
       "      <td>23.923449</td>\n",
       "      <td>0.162182</td>\n",
       "      <td>113</td>\n",
       "      <td>4.445951</td>\n",
       "      <td>0.220802</td>\n",
       "      <td>9.816762</td>\n",
       "      <td>01-06-2020</td>\n",
       "      <td>14-06-2020</td>\n",
       "    </tr>\n",
       "    <tr>\n",
       "      <th>1</th>\n",
       "      <td>NGK- Web traffic- Admission campaign 2020</td>\n",
       "      <td>Law-students</td>\n",
       "      <td>Law-students</td>\n",
       "      <td>18-24</td>\n",
       "      <td>male</td>\n",
       "      <td>NGK- Web traffic- Admission campaign 2020</td>\n",
       "      <td>Link Clicks</td>\n",
       "      <td>297.0</td>\n",
       "      <td>20547</td>\n",
       "      <td>35309</td>\n",
       "      <td>...</td>\n",
       "      <td>38.0</td>\n",
       "      <td>297.0</td>\n",
       "      <td>12.832761</td>\n",
       "      <td>0.841145</td>\n",
       "      <td>291</td>\n",
       "      <td>1.675756</td>\n",
       "      <td>0.824152</td>\n",
       "      <td>13.810783</td>\n",
       "      <td>01-06-2020</td>\n",
       "      <td>14-06-2020</td>\n",
       "    </tr>\n",
       "    <tr>\n",
       "      <th>2</th>\n",
       "      <td>NGK- Web traffic- Admission campaign 2020</td>\n",
       "      <td>Btech-students</td>\n",
       "      <td>Btech-students</td>\n",
       "      <td>18-24</td>\n",
       "      <td>male</td>\n",
       "      <td>NGK- Web traffic- Admission campaign 2020</td>\n",
       "      <td>Link Clicks</td>\n",
       "      <td>239.0</td>\n",
       "      <td>15020</td>\n",
       "      <td>28530</td>\n",
       "      <td>...</td>\n",
       "      <td>26.0</td>\n",
       "      <td>239.0</td>\n",
       "      <td>17.165682</td>\n",
       "      <td>0.837715</td>\n",
       "      <td>223</td>\n",
       "      <td>2.001380</td>\n",
       "      <td>0.781633</td>\n",
       "      <td>15.643454</td>\n",
       "      <td>01-06-2020</td>\n",
       "      <td>14-06-2020</td>\n",
       "    </tr>\n",
       "    <tr>\n",
       "      <th>3</th>\n",
       "      <td>NGK- Web traffic- Admission campaign 2020</td>\n",
       "      <td>Mechatronics-students</td>\n",
       "      <td>Mechatronics-students</td>\n",
       "      <td>18-24</td>\n",
       "      <td>male</td>\n",
       "      <td>NGK- Web traffic- Admission campaign 2020</td>\n",
       "      <td>Link Clicks</td>\n",
       "      <td>251.0</td>\n",
       "      <td>18680</td>\n",
       "      <td>32974</td>\n",
       "      <td>...</td>\n",
       "      <td>30.0</td>\n",
       "      <td>251.0</td>\n",
       "      <td>14.115176</td>\n",
       "      <td>0.761206</td>\n",
       "      <td>239</td>\n",
       "      <td>1.771779</td>\n",
       "      <td>0.724813</td>\n",
       "      <td>12.842096</td>\n",
       "      <td>01-06-2020</td>\n",
       "      <td>14-06-2020</td>\n",
       "    </tr>\n",
       "    <tr>\n",
       "      <th>4</th>\n",
       "      <td>NGK- Web traffic- Admission campaign 2020</td>\n",
       "      <td>AME-students</td>\n",
       "      <td>AME-students</td>\n",
       "      <td>18-24</td>\n",
       "      <td>male</td>\n",
       "      <td>NGK- Web traffic- Admission campaign 2020</td>\n",
       "      <td>Link Clicks</td>\n",
       "      <td>62.0</td>\n",
       "      <td>20210</td>\n",
       "      <td>30038</td>\n",
       "      <td>...</td>\n",
       "      <td>16.0</td>\n",
       "      <td>62.0</td>\n",
       "      <td>25.864971</td>\n",
       "      <td>0.206405</td>\n",
       "      <td>83</td>\n",
       "      <td>4.986019</td>\n",
       "      <td>0.276317</td>\n",
       "      <td>13.777200</td>\n",
       "      <td>01-06-2020</td>\n",
       "      <td>14-06-2020</td>\n",
       "    </tr>\n",
       "  </tbody>\n",
       "</table>\n",
       "<p>5 rows × 25 columns</p>\n",
       "</div>"
      ],
      "text/plain": [
       "                               Campaign Name            Ad Set Name  \\\n",
       "0  NGK- Web traffic- Admission campaign 2020  Aeronautical-students   \n",
       "1  NGK- Web traffic- Admission campaign 2020           Law-students   \n",
       "2  NGK- Web traffic- Admission campaign 2020         Btech-students   \n",
       "3  NGK- Web traffic- Admission campaign 2020  Mechatronics-students   \n",
       "4  NGK- Web traffic- Admission campaign 2020           AME-students   \n",
       "\n",
       "                 Ad Name    Age Gender  \\\n",
       "0  Aeronautical-students  18-24   male   \n",
       "1           Law-students  18-24   male   \n",
       "2         Btech-students  18-24   male   \n",
       "3  Mechatronics-students  18-24   male   \n",
       "4           AME-students  18-24   male   \n",
       "\n",
       "                             Campaign Name.1  Result Type  Results  Reach  \\\n",
       "0  NGK- Web traffic- Admission campaign 2020  Link Clicks     83.0  34944   \n",
       "1  NGK- Web traffic- Admission campaign 2020  Link Clicks    297.0  20547   \n",
       "2  NGK- Web traffic- Admission campaign 2020  Link Clicks    239.0  15020   \n",
       "3  NGK- Web traffic- Admission campaign 2020  Link Clicks    251.0  18680   \n",
       "4  NGK- Web traffic- Admission campaign 2020  Link Clicks     62.0  20210   \n",
       "\n",
       "   Impressions  ...  Landing Page Views  Link Clicks  \\\n",
       "0        51177  ...                21.0         83.0   \n",
       "1        35309  ...                38.0        297.0   \n",
       "2        28530  ...                26.0        239.0   \n",
       "3        32974  ...                30.0        251.0   \n",
       "4        30038  ...                16.0         62.0   \n",
       "\n",
       "   Cost per Landing Page View  Result Rate  Clicks (All)  CPC (All)  \\\n",
       "0                   23.923449     0.162182           113   4.445951   \n",
       "1                   12.832761     0.841145           291   1.675756   \n",
       "2                   17.165682     0.837715           223   2.001380   \n",
       "3                   14.115176     0.761206           239   1.771779   \n",
       "4                   25.864971     0.206405            83   4.986019   \n",
       "\n",
       "   CTR (All)  CPM (Cost per 1,000 Impressions)  Reporting Starts  \\\n",
       "0   0.220802                          9.816762        01-06-2020   \n",
       "1   0.824152                         13.810783        01-06-2020   \n",
       "2   0.781633                         15.643454        01-06-2020   \n",
       "3   0.724813                         12.842096        01-06-2020   \n",
       "4   0.276317                         13.777200        01-06-2020   \n",
       "\n",
       "   Reporting Ends  \n",
       "0      14-06-2020  \n",
       "1      14-06-2020  \n",
       "2      14-06-2020  \n",
       "3      14-06-2020  \n",
       "4      14-06-2020  \n",
       "\n",
       "[5 rows x 25 columns]"
      ]
     },
     "execution_count": 6,
     "metadata": {},
     "output_type": "execute_result"
    }
   ],
   "source": [
    "data.head()"
   ]
  },
  {
   "cell_type": "code",
   "execution_count": 7,
   "metadata": {},
   "outputs": [
    {
     "data": {
      "text/plain": [
       "(152, 25)"
      ]
     },
     "execution_count": 7,
     "metadata": {},
     "output_type": "execute_result"
    }
   ],
   "source": [
    "df.shape"
   ]
  },
  {
   "cell_type": "code",
   "execution_count": 8,
   "metadata": {},
   "outputs": [
    {
     "data": {
      "text/plain": [
       "Campaign Name                         0\n",
       "Ad Set Name                           0\n",
       "Ad Name                               0\n",
       "Age                                   0\n",
       "Gender                                0\n",
       "Campaign Name.1                       0\n",
       "Result Type                          46\n",
       "Results                              46\n",
       "Reach                                 0\n",
       "Impressions                           0\n",
       "Cost per Result                      46\n",
       "Amount Spent (INR)                    0\n",
       "Frequency                             0\n",
       "Unique Link Clicks                   46\n",
       "Website Purchases                   152\n",
       "Landing Page Views                   53\n",
       "Link Clicks                          46\n",
       "Cost per Landing Page View           53\n",
       "Result Rate                          46\n",
       "Clicks (All)                          0\n",
       "CPC (All)                            43\n",
       "CTR (All)                             0\n",
       "CPM (Cost per 1,000 Impressions)      0\n",
       "Reporting Starts                      0\n",
       "Reporting Ends                        0\n",
       "dtype: int64"
      ]
     },
     "execution_count": 8,
     "metadata": {},
     "output_type": "execute_result"
    }
   ],
   "source": [
    "data.isnull().sum()"
   ]
  },
  {
   "cell_type": "code",
   "execution_count": 9,
   "metadata": {},
   "outputs": [],
   "source": [
    "#Consider only those records where amount spent > 0\n",
    "data = data[(data['Amount Spent (INR)'] > 0)]"
   ]
  },
  {
   "cell_type": "code",
   "execution_count": 10,
   "metadata": {},
   "outputs": [
    {
     "data": {
      "text/plain": [
       "(151, 25)"
      ]
     },
     "execution_count": 10,
     "metadata": {},
     "output_type": "execute_result"
    }
   ],
   "source": [
    "data.shape"
   ]
  },
  {
   "cell_type": "markdown",
   "metadata": {},
   "source": [
    "### 2. Drop Columns that are extra"
   ]
  },
  {
   "cell_type": "code",
   "execution_count": 11,
   "metadata": {},
   "outputs": [],
   "source": [
    "#We see that Reporting Starts and Reporting Ends are additional columns which we don't require. So we drop them\n",
    "data.drop(['Reporting Ends','Reporting Starts',\"Campaign Name.1\",\"Website Purchases\",\"Unique Link Clicks\",\"Landing Page Views\",\"Link Clicks\",\"Cost per Landing Page View\",\"Result Rate\"],axis=1, inplace = True)"
   ]
  },
  {
   "cell_type": "code",
   "execution_count": 29,
   "metadata": {},
   "outputs": [],
   "source": [
    "data.drop([\"Result Type\"],axis=1, inplace = True)"
   ]
  },
  {
   "cell_type": "code",
   "execution_count": 12,
   "metadata": {},
   "outputs": [
    {
     "data": {
      "text/html": [
       "<div>\n",
       "<style scoped>\n",
       "    .dataframe tbody tr th:only-of-type {\n",
       "        vertical-align: middle;\n",
       "    }\n",
       "\n",
       "    .dataframe tbody tr th {\n",
       "        vertical-align: top;\n",
       "    }\n",
       "\n",
       "    .dataframe thead th {\n",
       "        text-align: right;\n",
       "    }\n",
       "</style>\n",
       "<table border=\"1\" class=\"dataframe\">\n",
       "  <thead>\n",
       "    <tr style=\"text-align: right;\">\n",
       "      <th></th>\n",
       "      <th>Campaign Name</th>\n",
       "      <th>Ad Set Name</th>\n",
       "      <th>Ad Name</th>\n",
       "      <th>Age</th>\n",
       "      <th>Gender</th>\n",
       "      <th>Result Type</th>\n",
       "      <th>Results</th>\n",
       "      <th>Reach</th>\n",
       "      <th>Impressions</th>\n",
       "      <th>Cost per Result</th>\n",
       "      <th>Amount Spent (INR)</th>\n",
       "      <th>Frequency</th>\n",
       "      <th>Clicks (All)</th>\n",
       "      <th>CPC (All)</th>\n",
       "      <th>CTR (All)</th>\n",
       "      <th>CPM (Cost per 1,000 Impressions)</th>\n",
       "    </tr>\n",
       "  </thead>\n",
       "  <tbody>\n",
       "    <tr>\n",
       "      <th>0</th>\n",
       "      <td>NGK- Web traffic- Admission campaign 2020</td>\n",
       "      <td>Aeronautical-students</td>\n",
       "      <td>Aeronautical-students</td>\n",
       "      <td>18-24</td>\n",
       "      <td>male</td>\n",
       "      <td>Link Clicks</td>\n",
       "      <td>83.0</td>\n",
       "      <td>34944</td>\n",
       "      <td>51177</td>\n",
       "      <td>6.052921</td>\n",
       "      <td>502.392436</td>\n",
       "      <td>1.464543</td>\n",
       "      <td>113</td>\n",
       "      <td>4.445951</td>\n",
       "      <td>0.220802</td>\n",
       "      <td>9.816762</td>\n",
       "    </tr>\n",
       "    <tr>\n",
       "      <th>1</th>\n",
       "      <td>NGK- Web traffic- Admission campaign 2020</td>\n",
       "      <td>Law-students</td>\n",
       "      <td>Law-students</td>\n",
       "      <td>18-24</td>\n",
       "      <td>male</td>\n",
       "      <td>Link Clicks</td>\n",
       "      <td>297.0</td>\n",
       "      <td>20547</td>\n",
       "      <td>35309</td>\n",
       "      <td>1.641902</td>\n",
       "      <td>487.644929</td>\n",
       "      <td>1.718450</td>\n",
       "      <td>291</td>\n",
       "      <td>1.675756</td>\n",
       "      <td>0.824152</td>\n",
       "      <td>13.810783</td>\n",
       "    </tr>\n",
       "    <tr>\n",
       "      <th>2</th>\n",
       "      <td>NGK- Web traffic- Admission campaign 2020</td>\n",
       "      <td>Btech-students</td>\n",
       "      <td>Btech-students</td>\n",
       "      <td>18-24</td>\n",
       "      <td>male</td>\n",
       "      <td>Link Clicks</td>\n",
       "      <td>239.0</td>\n",
       "      <td>15020</td>\n",
       "      <td>28530</td>\n",
       "      <td>1.867396</td>\n",
       "      <td>446.307743</td>\n",
       "      <td>1.899467</td>\n",
       "      <td>223</td>\n",
       "      <td>2.001380</td>\n",
       "      <td>0.781633</td>\n",
       "      <td>15.643454</td>\n",
       "    </tr>\n",
       "    <tr>\n",
       "      <th>3</th>\n",
       "      <td>NGK- Web traffic- Admission campaign 2020</td>\n",
       "      <td>Mechatronics-students</td>\n",
       "      <td>Mechatronics-students</td>\n",
       "      <td>18-24</td>\n",
       "      <td>male</td>\n",
       "      <td>Link Clicks</td>\n",
       "      <td>251.0</td>\n",
       "      <td>18680</td>\n",
       "      <td>32974</td>\n",
       "      <td>1.687073</td>\n",
       "      <td>423.455274</td>\n",
       "      <td>1.765203</td>\n",
       "      <td>239</td>\n",
       "      <td>1.771779</td>\n",
       "      <td>0.724813</td>\n",
       "      <td>12.842096</td>\n",
       "    </tr>\n",
       "    <tr>\n",
       "      <th>4</th>\n",
       "      <td>NGK- Web traffic- Admission campaign 2020</td>\n",
       "      <td>AME-students</td>\n",
       "      <td>AME-students</td>\n",
       "      <td>18-24</td>\n",
       "      <td>male</td>\n",
       "      <td>Link Clicks</td>\n",
       "      <td>62.0</td>\n",
       "      <td>20210</td>\n",
       "      <td>30038</td>\n",
       "      <td>6.674831</td>\n",
       "      <td>413.839542</td>\n",
       "      <td>1.486294</td>\n",
       "      <td>83</td>\n",
       "      <td>4.986019</td>\n",
       "      <td>0.276317</td>\n",
       "      <td>13.777200</td>\n",
       "    </tr>\n",
       "  </tbody>\n",
       "</table>\n",
       "</div>"
      ],
      "text/plain": [
       "                               Campaign Name            Ad Set Name  \\\n",
       "0  NGK- Web traffic- Admission campaign 2020  Aeronautical-students   \n",
       "1  NGK- Web traffic- Admission campaign 2020           Law-students   \n",
       "2  NGK- Web traffic- Admission campaign 2020         Btech-students   \n",
       "3  NGK- Web traffic- Admission campaign 2020  Mechatronics-students   \n",
       "4  NGK- Web traffic- Admission campaign 2020           AME-students   \n",
       "\n",
       "                 Ad Name    Age Gender  Result Type  Results  Reach  \\\n",
       "0  Aeronautical-students  18-24   male  Link Clicks     83.0  34944   \n",
       "1           Law-students  18-24   male  Link Clicks    297.0  20547   \n",
       "2         Btech-students  18-24   male  Link Clicks    239.0  15020   \n",
       "3  Mechatronics-students  18-24   male  Link Clicks    251.0  18680   \n",
       "4           AME-students  18-24   male  Link Clicks     62.0  20210   \n",
       "\n",
       "   Impressions  Cost per Result  Amount Spent (INR)  Frequency  Clicks (All)  \\\n",
       "0        51177         6.052921          502.392436   1.464543           113   \n",
       "1        35309         1.641902          487.644929   1.718450           291   \n",
       "2        28530         1.867396          446.307743   1.899467           223   \n",
       "3        32974         1.687073          423.455274   1.765203           239   \n",
       "4        30038         6.674831          413.839542   1.486294            83   \n",
       "\n",
       "   CPC (All)  CTR (All)  CPM (Cost per 1,000 Impressions)  \n",
       "0   4.445951   0.220802                          9.816762  \n",
       "1   1.675756   0.824152                         13.810783  \n",
       "2   2.001380   0.781633                         15.643454  \n",
       "3   1.771779   0.724813                         12.842096  \n",
       "4   4.986019   0.276317                         13.777200  "
      ]
     },
     "execution_count": 12,
     "metadata": {},
     "output_type": "execute_result"
    }
   ],
   "source": [
    "#look at the data again\n",
    "data.head()"
   ]
  },
  {
   "cell_type": "code",
   "execution_count": 13,
   "metadata": {},
   "outputs": [
    {
     "data": {
      "text/plain": [
       "(151, 16)"
      ]
     },
     "execution_count": 13,
     "metadata": {},
     "output_type": "execute_result"
    }
   ],
   "source": [
    "#check rows and columns in data\n",
    "data.shape"
   ]
  },
  {
   "cell_type": "markdown",
   "metadata": {},
   "source": [
    "#### So, there are 349 rows and 13 columns in the data"
   ]
  },
  {
   "cell_type": "markdown",
   "metadata": {},
   "source": [
    "### 3. Deal with Null Values"
   ]
  },
  {
   "cell_type": "code",
   "execution_count": 14,
   "metadata": {},
   "outputs": [
    {
     "data": {
      "text/plain": [
       "Campaign Name                        0\n",
       "Ad Set Name                          0\n",
       "Ad Name                              0\n",
       "Age                                  0\n",
       "Gender                               0\n",
       "Result Type                         45\n",
       "Results                             45\n",
       "Reach                                0\n",
       "Impressions                          0\n",
       "Cost per Result                     45\n",
       "Amount Spent (INR)                   0\n",
       "Frequency                            0\n",
       "Clicks (All)                         0\n",
       "CPC (All)                           42\n",
       "CTR (All)                            0\n",
       "CPM (Cost per 1,000 Impressions)     0\n",
       "dtype: int64"
      ]
     },
     "execution_count": 14,
     "metadata": {},
     "output_type": "execute_result"
    }
   ],
   "source": [
    "#let's look if any column has null values\n",
    "data.isnull().sum()"
   ]
  },
  {
   "cell_type": "markdown",
   "metadata": {},
   "source": [
    "#### From this we can infer that some columns have Null values (basically blank). Let's look at them:\n",
    "**1. Results & Result Type:** This happened when there was no conversion (Result).\n",
    "\n",
    "**2. Result rate, Cost per result:** As both these metrics depend on Result, so these are also blank. \n",
    "\n",
    "This was bound to happen because not every single day and every ad got a result (conversion). **So it is safe to replace all nulls in Results and Result rate column with 0.**"
   ]
  },
  {
   "cell_type": "code",
   "execution_count": null,
   "metadata": {},
   "outputs": [],
   "source": []
  },
  {
   "cell_type": "code",
   "execution_count": 15,
   "metadata": {},
   "outputs": [],
   "source": [
    "#Fill all blanks in Results with 0\n",
    "data['Results'] = data['Results'].fillna(0)\n",
    "data['CPC (All)'] = data['CPC (All)'].fillna(0)\n",
    "data['Cost per Result'] = data['Cost per Result'].fillna(0)\n"
   ]
  },
  {
   "cell_type": "code",
   "execution_count": 16,
   "metadata": {},
   "outputs": [
    {
     "data": {
      "text/plain": [
       "Campaign Name                        0\n",
       "Ad Set Name                          0\n",
       "Ad Name                              0\n",
       "Age                                  0\n",
       "Gender                               0\n",
       "Result Type                         45\n",
       "Results                              0\n",
       "Reach                                0\n",
       "Impressions                          0\n",
       "Cost per Result                      0\n",
       "Amount Spent (INR)                   0\n",
       "Frequency                            0\n",
       "Clicks (All)                         0\n",
       "CPC (All)                            0\n",
       "CTR (All)                            0\n",
       "CPM (Cost per 1,000 Impressions)     0\n",
       "dtype: int64"
      ]
     },
     "execution_count": 16,
     "metadata": {},
     "output_type": "execute_result"
    }
   ],
   "source": [
    "#check how many nulls are still there \n",
    "data.isnull().sum()"
   ]
  },
  {
   "cell_type": "markdown",
   "metadata": {},
   "source": [
    "#### Voila! Results & Result rate column has no nulls now. Let's see what column Results Type is all about. "
   ]
  },
  {
   "cell_type": "code",
   "execution_count": 17,
   "metadata": {},
   "outputs": [
    {
     "data": {
      "text/plain": [
       "Link Clicks    106\n",
       "Name: Result Type, dtype: int64"
      ]
     },
     "execution_count": 17,
     "metadata": {},
     "output_type": "execute_result"
    }
   ],
   "source": [
    "data['Result Type'].value_counts()"
   ]
  },
  {
   "cell_type": "markdown",
   "metadata": {},
   "source": [
    "So we infer that 'Result Type' is basically the type of conversion event taking place. It can be either Page Like, Post Like, On-Facebook Lead, Custom Conversion etc. **Since, we are analysing just one campaign here, we can drop this column as it has same meaning throughout data set.**\n",
    "\n",
    "If we were analysing multiple campaigns, with different objectives, then keeping this column would have made sense."
   ]
  },
  {
   "cell_type": "code",
   "execution_count": 18,
   "metadata": {},
   "outputs": [],
   "source": [
    "#Drop Result Type column from data\n",
    "data.drop(['Result Type'],axis=1, inplace = True)"
   ]
  },
  {
   "cell_type": "code",
   "execution_count": 19,
   "metadata": {},
   "outputs": [
    {
     "data": {
      "text/plain": [
       "Campaign Name                       0\n",
       "Ad Set Name                         0\n",
       "Ad Name                             0\n",
       "Age                                 0\n",
       "Gender                              0\n",
       "Results                             0\n",
       "Reach                               0\n",
       "Impressions                         0\n",
       "Cost per Result                     0\n",
       "Amount Spent (INR)                  0\n",
       "Frequency                           0\n",
       "Clicks (All)                        0\n",
       "CPC (All)                           0\n",
       "CTR (All)                           0\n",
       "CPM (Cost per 1,000 Impressions)    0\n",
       "dtype: int64"
      ]
     },
     "execution_count": 19,
     "metadata": {},
     "output_type": "execute_result"
    }
   ],
   "source": [
    "#check how many nulls are still there \n",
    "data.isnull().sum()"
   ]
  },
  {
   "cell_type": "markdown",
   "metadata": {},
   "source": [
    "Now we need to deal with **Cost per result**.\n",
    "The cases where CPA is Null means that there was no conversion. So ideally, in these cases the CPA should be very high (in case a conversion actually happened)."
   ]
  },
  {
   "cell_type": "markdown",
   "metadata": {},
   "source": [
    "#### So, let's leave this column as it is because we can't assign any value for records where no conversion happened."
   ]
  },
  {
   "cell_type": "code",
   "execution_count": 20,
   "metadata": {},
   "outputs": [
    {
     "name": "stdout",
     "output_type": "stream",
     "text": [
      "<class 'pandas.core.frame.DataFrame'>\n",
      "Int64Index: 151 entries, 0 to 150\n",
      "Data columns (total 15 columns):\n",
      " #   Column                            Non-Null Count  Dtype  \n",
      "---  ------                            --------------  -----  \n",
      " 0   Campaign Name                     151 non-null    object \n",
      " 1   Ad Set Name                       151 non-null    object \n",
      " 2   Ad Name                           151 non-null    object \n",
      " 3   Age                               151 non-null    object \n",
      " 4   Gender                            151 non-null    object \n",
      " 5   Results                           151 non-null    float64\n",
      " 6   Reach                             151 non-null    int64  \n",
      " 7   Impressions                       151 non-null    int64  \n",
      " 8   Cost per Result                   151 non-null    float64\n",
      " 9   Amount Spent (INR)                151 non-null    float64\n",
      " 10  Frequency                         151 non-null    float64\n",
      " 11  Clicks (All)                      151 non-null    int64  \n",
      " 12  CPC (All)                         151 non-null    float64\n",
      " 13  CTR (All)                         151 non-null    float64\n",
      " 14  CPM (Cost per 1,000 Impressions)  151 non-null    float64\n",
      "dtypes: float64(7), int64(3), object(5)\n",
      "memory usage: 18.9+ KB\n"
     ]
    }
   ],
   "source": [
    "#Have a look at data\n",
    "data.info()"
   ]
  },
  {
   "cell_type": "markdown",
   "metadata": {},
   "source": [
    "# 2. Feature Engineering"
   ]
  },
  {
   "cell_type": "markdown",
   "metadata": {},
   "source": [
    "Make new and better features from using the current available features"
   ]
  },
  {
   "cell_type": "markdown",
   "metadata": {},
   "source": [
    "### 1. We can divide Frequency in buckets"
   ]
  },
  {
   "cell_type": "code",
   "execution_count": 21,
   "metadata": {},
   "outputs": [],
   "source": [
    "data['Frequency'] = data['Frequency'].apply(lambda x:'1 to 2' if x<2\n",
    "                                               else '2 to 3' if x>=2 and x<3 \n",
    "                                               else '3 to 4' if x>=3 and x<4\n",
    "                                               else '4 to 5' if x>=4 and x<5\n",
    "                                               else 'More than 5')"
   ]
  },
  {
   "cell_type": "code",
   "execution_count": 22,
   "metadata": {},
   "outputs": [
    {
     "data": {
      "text/html": [
       "<div>\n",
       "<style scoped>\n",
       "    .dataframe tbody tr th:only-of-type {\n",
       "        vertical-align: middle;\n",
       "    }\n",
       "\n",
       "    .dataframe tbody tr th {\n",
       "        vertical-align: top;\n",
       "    }\n",
       "\n",
       "    .dataframe thead th {\n",
       "        text-align: right;\n",
       "    }\n",
       "</style>\n",
       "<table border=\"1\" class=\"dataframe\">\n",
       "  <thead>\n",
       "    <tr style=\"text-align: right;\">\n",
       "      <th></th>\n",
       "      <th>Campaign Name</th>\n",
       "      <th>Ad Set Name</th>\n",
       "      <th>Ad Name</th>\n",
       "      <th>Age</th>\n",
       "      <th>Gender</th>\n",
       "      <th>Results</th>\n",
       "      <th>Reach</th>\n",
       "      <th>Impressions</th>\n",
       "      <th>Cost per Result</th>\n",
       "      <th>Amount Spent (INR)</th>\n",
       "      <th>Frequency</th>\n",
       "      <th>Clicks (All)</th>\n",
       "      <th>CPC (All)</th>\n",
       "      <th>CTR (All)</th>\n",
       "      <th>CPM (Cost per 1,000 Impressions)</th>\n",
       "    </tr>\n",
       "  </thead>\n",
       "  <tbody>\n",
       "    <tr>\n",
       "      <th>0</th>\n",
       "      <td>NGK- Web traffic- Admission campaign 2020</td>\n",
       "      <td>Aeronautical-students</td>\n",
       "      <td>Aeronautical-students</td>\n",
       "      <td>18-24</td>\n",
       "      <td>male</td>\n",
       "      <td>83.0</td>\n",
       "      <td>34944</td>\n",
       "      <td>51177</td>\n",
       "      <td>6.052921</td>\n",
       "      <td>502.392436</td>\n",
       "      <td>1 to 2</td>\n",
       "      <td>113</td>\n",
       "      <td>4.445951</td>\n",
       "      <td>0.220802</td>\n",
       "      <td>9.816762</td>\n",
       "    </tr>\n",
       "    <tr>\n",
       "      <th>1</th>\n",
       "      <td>NGK- Web traffic- Admission campaign 2020</td>\n",
       "      <td>Law-students</td>\n",
       "      <td>Law-students</td>\n",
       "      <td>18-24</td>\n",
       "      <td>male</td>\n",
       "      <td>297.0</td>\n",
       "      <td>20547</td>\n",
       "      <td>35309</td>\n",
       "      <td>1.641902</td>\n",
       "      <td>487.644929</td>\n",
       "      <td>1 to 2</td>\n",
       "      <td>291</td>\n",
       "      <td>1.675756</td>\n",
       "      <td>0.824152</td>\n",
       "      <td>13.810783</td>\n",
       "    </tr>\n",
       "    <tr>\n",
       "      <th>2</th>\n",
       "      <td>NGK- Web traffic- Admission campaign 2020</td>\n",
       "      <td>Btech-students</td>\n",
       "      <td>Btech-students</td>\n",
       "      <td>18-24</td>\n",
       "      <td>male</td>\n",
       "      <td>239.0</td>\n",
       "      <td>15020</td>\n",
       "      <td>28530</td>\n",
       "      <td>1.867396</td>\n",
       "      <td>446.307743</td>\n",
       "      <td>1 to 2</td>\n",
       "      <td>223</td>\n",
       "      <td>2.001380</td>\n",
       "      <td>0.781633</td>\n",
       "      <td>15.643454</td>\n",
       "    </tr>\n",
       "    <tr>\n",
       "      <th>3</th>\n",
       "      <td>NGK- Web traffic- Admission campaign 2020</td>\n",
       "      <td>Mechatronics-students</td>\n",
       "      <td>Mechatronics-students</td>\n",
       "      <td>18-24</td>\n",
       "      <td>male</td>\n",
       "      <td>251.0</td>\n",
       "      <td>18680</td>\n",
       "      <td>32974</td>\n",
       "      <td>1.687073</td>\n",
       "      <td>423.455274</td>\n",
       "      <td>1 to 2</td>\n",
       "      <td>239</td>\n",
       "      <td>1.771779</td>\n",
       "      <td>0.724813</td>\n",
       "      <td>12.842096</td>\n",
       "    </tr>\n",
       "    <tr>\n",
       "      <th>4</th>\n",
       "      <td>NGK- Web traffic- Admission campaign 2020</td>\n",
       "      <td>AME-students</td>\n",
       "      <td>AME-students</td>\n",
       "      <td>18-24</td>\n",
       "      <td>male</td>\n",
       "      <td>62.0</td>\n",
       "      <td>20210</td>\n",
       "      <td>30038</td>\n",
       "      <td>6.674831</td>\n",
       "      <td>413.839542</td>\n",
       "      <td>1 to 2</td>\n",
       "      <td>83</td>\n",
       "      <td>4.986019</td>\n",
       "      <td>0.276317</td>\n",
       "      <td>13.777200</td>\n",
       "    </tr>\n",
       "  </tbody>\n",
       "</table>\n",
       "</div>"
      ],
      "text/plain": [
       "                               Campaign Name            Ad Set Name  \\\n",
       "0  NGK- Web traffic- Admission campaign 2020  Aeronautical-students   \n",
       "1  NGK- Web traffic- Admission campaign 2020           Law-students   \n",
       "2  NGK- Web traffic- Admission campaign 2020         Btech-students   \n",
       "3  NGK- Web traffic- Admission campaign 2020  Mechatronics-students   \n",
       "4  NGK- Web traffic- Admission campaign 2020           AME-students   \n",
       "\n",
       "                 Ad Name    Age Gender  Results  Reach  Impressions  \\\n",
       "0  Aeronautical-students  18-24   male     83.0  34944        51177   \n",
       "1           Law-students  18-24   male    297.0  20547        35309   \n",
       "2         Btech-students  18-24   male    239.0  15020        28530   \n",
       "3  Mechatronics-students  18-24   male    251.0  18680        32974   \n",
       "4           AME-students  18-24   male     62.0  20210        30038   \n",
       "\n",
       "   Cost per Result  Amount Spent (INR) Frequency  Clicks (All)  CPC (All)  \\\n",
       "0         6.052921          502.392436    1 to 2           113   4.445951   \n",
       "1         1.641902          487.644929    1 to 2           291   1.675756   \n",
       "2         1.867396          446.307743    1 to 2           223   2.001380   \n",
       "3         1.687073          423.455274    1 to 2           239   1.771779   \n",
       "4         6.674831          413.839542    1 to 2            83   4.986019   \n",
       "\n",
       "   CTR (All)  CPM (Cost per 1,000 Impressions)  \n",
       "0   0.220802                          9.816762  \n",
       "1   0.824152                         13.810783  \n",
       "2   0.781633                         15.643454  \n",
       "3   0.724813                         12.842096  \n",
       "4   0.276317                         13.777200  "
      ]
     },
     "execution_count": 22,
     "metadata": {},
     "output_type": "execute_result"
    }
   ],
   "source": [
    "data.head()"
   ]
  },
  {
   "cell_type": "markdown",
   "metadata": {},
   "source": [
    "### 2. Split Ad name into Ad Format and Ad Headline"
   ]
  },
  {
   "cell_type": "code",
   "execution_count": 23,
   "metadata": {},
   "outputs": [],
   "source": [
    "data[\"Adset_Name\"] = data['Ad Set Name']"
   ]
  },
  {
   "cell_type": "code",
   "execution_count": 24,
   "metadata": {},
   "outputs": [
    {
     "data": {
      "text/html": [
       "<div>\n",
       "<style scoped>\n",
       "    .dataframe tbody tr th:only-of-type {\n",
       "        vertical-align: middle;\n",
       "    }\n",
       "\n",
       "    .dataframe tbody tr th {\n",
       "        vertical-align: top;\n",
       "    }\n",
       "\n",
       "    .dataframe thead th {\n",
       "        text-align: right;\n",
       "    }\n",
       "</style>\n",
       "<table border=\"1\" class=\"dataframe\">\n",
       "  <thead>\n",
       "    <tr style=\"text-align: right;\">\n",
       "      <th></th>\n",
       "      <th>Campaign Name</th>\n",
       "      <th>Ad Set Name</th>\n",
       "      <th>Ad Name</th>\n",
       "      <th>Age</th>\n",
       "      <th>Gender</th>\n",
       "      <th>Results</th>\n",
       "      <th>Reach</th>\n",
       "      <th>Impressions</th>\n",
       "      <th>Cost per Result</th>\n",
       "      <th>Amount Spent (INR)</th>\n",
       "      <th>Frequency</th>\n",
       "      <th>Clicks (All)</th>\n",
       "      <th>CPC (All)</th>\n",
       "      <th>CTR (All)</th>\n",
       "      <th>CPM (Cost per 1,000 Impressions)</th>\n",
       "      <th>Adset_Name</th>\n",
       "    </tr>\n",
       "  </thead>\n",
       "  <tbody>\n",
       "    <tr>\n",
       "      <th>0</th>\n",
       "      <td>NGK- Web traffic- Admission campaign 2020</td>\n",
       "      <td>Aeronautical-students</td>\n",
       "      <td>Aeronautical-students</td>\n",
       "      <td>18-24</td>\n",
       "      <td>male</td>\n",
       "      <td>83.0</td>\n",
       "      <td>34944</td>\n",
       "      <td>51177</td>\n",
       "      <td>6.052921</td>\n",
       "      <td>502.392436</td>\n",
       "      <td>1 to 2</td>\n",
       "      <td>113</td>\n",
       "      <td>4.445951</td>\n",
       "      <td>0.220802</td>\n",
       "      <td>9.816762</td>\n",
       "      <td>Aeronautical-students</td>\n",
       "    </tr>\n",
       "    <tr>\n",
       "      <th>1</th>\n",
       "      <td>NGK- Web traffic- Admission campaign 2020</td>\n",
       "      <td>Law-students</td>\n",
       "      <td>Law-students</td>\n",
       "      <td>18-24</td>\n",
       "      <td>male</td>\n",
       "      <td>297.0</td>\n",
       "      <td>20547</td>\n",
       "      <td>35309</td>\n",
       "      <td>1.641902</td>\n",
       "      <td>487.644929</td>\n",
       "      <td>1 to 2</td>\n",
       "      <td>291</td>\n",
       "      <td>1.675756</td>\n",
       "      <td>0.824152</td>\n",
       "      <td>13.810783</td>\n",
       "      <td>Law-students</td>\n",
       "    </tr>\n",
       "    <tr>\n",
       "      <th>2</th>\n",
       "      <td>NGK- Web traffic- Admission campaign 2020</td>\n",
       "      <td>Btech-students</td>\n",
       "      <td>Btech-students</td>\n",
       "      <td>18-24</td>\n",
       "      <td>male</td>\n",
       "      <td>239.0</td>\n",
       "      <td>15020</td>\n",
       "      <td>28530</td>\n",
       "      <td>1.867396</td>\n",
       "      <td>446.307743</td>\n",
       "      <td>1 to 2</td>\n",
       "      <td>223</td>\n",
       "      <td>2.001380</td>\n",
       "      <td>0.781633</td>\n",
       "      <td>15.643454</td>\n",
       "      <td>Btech-students</td>\n",
       "    </tr>\n",
       "    <tr>\n",
       "      <th>3</th>\n",
       "      <td>NGK- Web traffic- Admission campaign 2020</td>\n",
       "      <td>Mechatronics-students</td>\n",
       "      <td>Mechatronics-students</td>\n",
       "      <td>18-24</td>\n",
       "      <td>male</td>\n",
       "      <td>251.0</td>\n",
       "      <td>18680</td>\n",
       "      <td>32974</td>\n",
       "      <td>1.687073</td>\n",
       "      <td>423.455274</td>\n",
       "      <td>1 to 2</td>\n",
       "      <td>239</td>\n",
       "      <td>1.771779</td>\n",
       "      <td>0.724813</td>\n",
       "      <td>12.842096</td>\n",
       "      <td>Mechatronics-students</td>\n",
       "    </tr>\n",
       "    <tr>\n",
       "      <th>4</th>\n",
       "      <td>NGK- Web traffic- Admission campaign 2020</td>\n",
       "      <td>AME-students</td>\n",
       "      <td>AME-students</td>\n",
       "      <td>18-24</td>\n",
       "      <td>male</td>\n",
       "      <td>62.0</td>\n",
       "      <td>20210</td>\n",
       "      <td>30038</td>\n",
       "      <td>6.674831</td>\n",
       "      <td>413.839542</td>\n",
       "      <td>1 to 2</td>\n",
       "      <td>83</td>\n",
       "      <td>4.986019</td>\n",
       "      <td>0.276317</td>\n",
       "      <td>13.777200</td>\n",
       "      <td>AME-students</td>\n",
       "    </tr>\n",
       "  </tbody>\n",
       "</table>\n",
       "</div>"
      ],
      "text/plain": [
       "                               Campaign Name            Ad Set Name  \\\n",
       "0  NGK- Web traffic- Admission campaign 2020  Aeronautical-students   \n",
       "1  NGK- Web traffic- Admission campaign 2020           Law-students   \n",
       "2  NGK- Web traffic- Admission campaign 2020         Btech-students   \n",
       "3  NGK- Web traffic- Admission campaign 2020  Mechatronics-students   \n",
       "4  NGK- Web traffic- Admission campaign 2020           AME-students   \n",
       "\n",
       "                 Ad Name    Age Gender  Results  Reach  Impressions  \\\n",
       "0  Aeronautical-students  18-24   male     83.0  34944        51177   \n",
       "1           Law-students  18-24   male    297.0  20547        35309   \n",
       "2         Btech-students  18-24   male    239.0  15020        28530   \n",
       "3  Mechatronics-students  18-24   male    251.0  18680        32974   \n",
       "4           AME-students  18-24   male     62.0  20210        30038   \n",
       "\n",
       "   Cost per Result  Amount Spent (INR) Frequency  Clicks (All)  CPC (All)  \\\n",
       "0         6.052921          502.392436    1 to 2           113   4.445951   \n",
       "1         1.641902          487.644929    1 to 2           291   1.675756   \n",
       "2         1.867396          446.307743    1 to 2           223   2.001380   \n",
       "3         1.687073          423.455274    1 to 2           239   1.771779   \n",
       "4         6.674831          413.839542    1 to 2            83   4.986019   \n",
       "\n",
       "   CTR (All)  CPM (Cost per 1,000 Impressions)             Adset_Name  \n",
       "0   0.220802                          9.816762  Aeronautical-students  \n",
       "1   0.824152                         13.810783           Law-students  \n",
       "2   0.781633                         15.643454         Btech-students  \n",
       "3   0.724813                         12.842096  Mechatronics-students  \n",
       "4   0.276317                         13.777200           AME-students  "
      ]
     },
     "execution_count": 24,
     "metadata": {},
     "output_type": "execute_result"
    }
   ],
   "source": [
    "data.head()"
   ]
  },
  {
   "cell_type": "code",
   "execution_count": 25,
   "metadata": {
    "scrolled": false
   },
   "outputs": [],
   "source": [
    "data[['Dept','Target']] = data.Adset_Name.str.split(\"-\",expand=True)"
   ]
  },
  {
   "cell_type": "code",
   "execution_count": 41,
   "metadata": {
    "scrolled": false
   },
   "outputs": [
    {
     "data": {
      "text/html": [
       "<div>\n",
       "<style scoped>\n",
       "    .dataframe tbody tr th:only-of-type {\n",
       "        vertical-align: middle;\n",
       "    }\n",
       "\n",
       "    .dataframe tbody tr th {\n",
       "        vertical-align: top;\n",
       "    }\n",
       "\n",
       "    .dataframe thead th {\n",
       "        text-align: right;\n",
       "    }\n",
       "</style>\n",
       "<table border=\"1\" class=\"dataframe\">\n",
       "  <thead>\n",
       "    <tr style=\"text-align: right;\">\n",
       "      <th></th>\n",
       "      <th>Campaign Name</th>\n",
       "      <th>Ad Set Name</th>\n",
       "      <th>Ad Name</th>\n",
       "      <th>Age</th>\n",
       "      <th>Gender</th>\n",
       "      <th>Results</th>\n",
       "      <th>Reach</th>\n",
       "      <th>Impressions</th>\n",
       "      <th>Cost per Result</th>\n",
       "      <th>Amount Spent (INR)</th>\n",
       "      <th>Frequency</th>\n",
       "      <th>Clicks (All)</th>\n",
       "      <th>CPC (All)</th>\n",
       "      <th>CTR (All)</th>\n",
       "      <th>CPM (Cost per 1,000 Impressions)</th>\n",
       "      <th>Adset_Name</th>\n",
       "      <th>Dept</th>\n",
       "      <th>Target</th>\n",
       "    </tr>\n",
       "  </thead>\n",
       "  <tbody>\n",
       "    <tr>\n",
       "      <th>0</th>\n",
       "      <td>NGK- Web traffic- Admission campaign 2020</td>\n",
       "      <td>Aeronautical-students</td>\n",
       "      <td>Aeronautical-students</td>\n",
       "      <td>18-24</td>\n",
       "      <td>male</td>\n",
       "      <td>83.0</td>\n",
       "      <td>34944</td>\n",
       "      <td>51177</td>\n",
       "      <td>6.052921</td>\n",
       "      <td>502.392436</td>\n",
       "      <td>1 to 2</td>\n",
       "      <td>113</td>\n",
       "      <td>4.445951</td>\n",
       "      <td>0.220802</td>\n",
       "      <td>9.816762</td>\n",
       "      <td>Aeronautical-students</td>\n",
       "      <td>Aeronautical</td>\n",
       "      <td>students</td>\n",
       "    </tr>\n",
       "    <tr>\n",
       "      <th>1</th>\n",
       "      <td>NGK- Web traffic- Admission campaign 2020</td>\n",
       "      <td>Law-students</td>\n",
       "      <td>Law-students</td>\n",
       "      <td>18-24</td>\n",
       "      <td>male</td>\n",
       "      <td>297.0</td>\n",
       "      <td>20547</td>\n",
       "      <td>35309</td>\n",
       "      <td>1.641902</td>\n",
       "      <td>487.644929</td>\n",
       "      <td>1 to 2</td>\n",
       "      <td>291</td>\n",
       "      <td>1.675756</td>\n",
       "      <td>0.824152</td>\n",
       "      <td>13.810783</td>\n",
       "      <td>Law-students</td>\n",
       "      <td>Law</td>\n",
       "      <td>students</td>\n",
       "    </tr>\n",
       "    <tr>\n",
       "      <th>2</th>\n",
       "      <td>NGK- Web traffic- Admission campaign 2020</td>\n",
       "      <td>Btech-students</td>\n",
       "      <td>Btech-students</td>\n",
       "      <td>18-24</td>\n",
       "      <td>male</td>\n",
       "      <td>239.0</td>\n",
       "      <td>15020</td>\n",
       "      <td>28530</td>\n",
       "      <td>1.867396</td>\n",
       "      <td>446.307743</td>\n",
       "      <td>1 to 2</td>\n",
       "      <td>223</td>\n",
       "      <td>2.001380</td>\n",
       "      <td>0.781633</td>\n",
       "      <td>15.643454</td>\n",
       "      <td>Btech-students</td>\n",
       "      <td>Btech</td>\n",
       "      <td>students</td>\n",
       "    </tr>\n",
       "    <tr>\n",
       "      <th>3</th>\n",
       "      <td>NGK- Web traffic- Admission campaign 2020</td>\n",
       "      <td>Mechatronics-students</td>\n",
       "      <td>Mechatronics-students</td>\n",
       "      <td>18-24</td>\n",
       "      <td>male</td>\n",
       "      <td>251.0</td>\n",
       "      <td>18680</td>\n",
       "      <td>32974</td>\n",
       "      <td>1.687073</td>\n",
       "      <td>423.455274</td>\n",
       "      <td>1 to 2</td>\n",
       "      <td>239</td>\n",
       "      <td>1.771779</td>\n",
       "      <td>0.724813</td>\n",
       "      <td>12.842096</td>\n",
       "      <td>Mechatronics-students</td>\n",
       "      <td>Mechatronics</td>\n",
       "      <td>students</td>\n",
       "    </tr>\n",
       "    <tr>\n",
       "      <th>4</th>\n",
       "      <td>NGK- Web traffic- Admission campaign 2020</td>\n",
       "      <td>AME-students</td>\n",
       "      <td>AME-students</td>\n",
       "      <td>18-24</td>\n",
       "      <td>male</td>\n",
       "      <td>62.0</td>\n",
       "      <td>20210</td>\n",
       "      <td>30038</td>\n",
       "      <td>6.674831</td>\n",
       "      <td>413.839542</td>\n",
       "      <td>1 to 2</td>\n",
       "      <td>83</td>\n",
       "      <td>4.986019</td>\n",
       "      <td>0.276317</td>\n",
       "      <td>13.777200</td>\n",
       "      <td>AME-students</td>\n",
       "      <td>AME</td>\n",
       "      <td>students</td>\n",
       "    </tr>\n",
       "  </tbody>\n",
       "</table>\n",
       "</div>"
      ],
      "text/plain": [
       "                               Campaign Name            Ad Set Name  \\\n",
       "0  NGK- Web traffic- Admission campaign 2020  Aeronautical-students   \n",
       "1  NGK- Web traffic- Admission campaign 2020           Law-students   \n",
       "2  NGK- Web traffic- Admission campaign 2020         Btech-students   \n",
       "3  NGK- Web traffic- Admission campaign 2020  Mechatronics-students   \n",
       "4  NGK- Web traffic- Admission campaign 2020           AME-students   \n",
       "\n",
       "                 Ad Name    Age Gender  Results  Reach  Impressions  \\\n",
       "0  Aeronautical-students  18-24   male     83.0  34944        51177   \n",
       "1           Law-students  18-24   male    297.0  20547        35309   \n",
       "2         Btech-students  18-24   male    239.0  15020        28530   \n",
       "3  Mechatronics-students  18-24   male    251.0  18680        32974   \n",
       "4           AME-students  18-24   male     62.0  20210        30038   \n",
       "\n",
       "   Cost per Result  Amount Spent (INR) Frequency  Clicks (All)  CPC (All)  \\\n",
       "0         6.052921          502.392436    1 to 2           113   4.445951   \n",
       "1         1.641902          487.644929    1 to 2           291   1.675756   \n",
       "2         1.867396          446.307743    1 to 2           223   2.001380   \n",
       "3         1.687073          423.455274    1 to 2           239   1.771779   \n",
       "4         6.674831          413.839542    1 to 2            83   4.986019   \n",
       "\n",
       "   CTR (All)  CPM (Cost per 1,000 Impressions)             Adset_Name  \\\n",
       "0   0.220802                          9.816762  Aeronautical-students   \n",
       "1   0.824152                         13.810783           Law-students   \n",
       "2   0.781633                         15.643454         Btech-students   \n",
       "3   0.724813                         12.842096  Mechatronics-students   \n",
       "4   0.276317                         13.777200           AME-students   \n",
       "\n",
       "           Dept    Target  \n",
       "0  Aeronautical  students  \n",
       "1           Law  students  \n",
       "2         Btech  students  \n",
       "3  Mechatronics  students  \n",
       "4           AME  students  "
      ]
     },
     "execution_count": 41,
     "metadata": {},
     "output_type": "execute_result"
    }
   ],
   "source": [
    "data.head()"
   ]
  },
  {
   "cell_type": "code",
   "execution_count": null,
   "metadata": {},
   "outputs": [],
   "source": [
    "data.drop(['Ad name','Ad_name'],axis=1, inplace = True)"
   ]
  },
  {
   "cell_type": "code",
   "execution_count": null,
   "metadata": {},
   "outputs": [],
   "source": [
    "data.head()"
   ]
  },
  {
   "cell_type": "markdown",
   "metadata": {},
   "source": [
    "### 3. Remove unknown from Gender"
   ]
  },
  {
   "cell_type": "code",
   "execution_count": 26,
   "metadata": {},
   "outputs": [
    {
     "data": {
      "text/plain": [
       "male       55\n",
       "female     55\n",
       "unknown    41\n",
       "Name: Gender, dtype: int64"
      ]
     },
     "execution_count": 26,
     "metadata": {},
     "output_type": "execute_result"
    }
   ],
   "source": [
    "data['Gender'].value_counts()"
   ]
  },
  {
   "cell_type": "code",
   "execution_count": 43,
   "metadata": {},
   "outputs": [],
   "source": [
    "data = data[data.Gender != 'unknown']"
   ]
  },
  {
   "cell_type": "code",
   "execution_count": 27,
   "metadata": {},
   "outputs": [
    {
     "data": {
      "text/plain": [
       "male       55\n",
       "female     55\n",
       "unknown    41\n",
       "Name: Gender, dtype: int64"
      ]
     },
     "execution_count": 27,
     "metadata": {},
     "output_type": "execute_result"
    }
   ],
   "source": [
    "data['Gender'].value_counts()"
   ]
  },
  {
   "cell_type": "code",
   "execution_count": 28,
   "metadata": {},
   "outputs": [
    {
     "name": "stdout",
     "output_type": "stream",
     "text": [
      "<class 'pandas.core.frame.DataFrame'>\n",
      "Int64Index: 151 entries, 0 to 150\n",
      "Data columns (total 18 columns):\n",
      " #   Column                            Non-Null Count  Dtype  \n",
      "---  ------                            --------------  -----  \n",
      " 0   Campaign Name                     151 non-null    object \n",
      " 1   Ad Set Name                       151 non-null    object \n",
      " 2   Ad Name                           151 non-null    object \n",
      " 3   Age                               151 non-null    object \n",
      " 4   Gender                            151 non-null    object \n",
      " 5   Results                           151 non-null    float64\n",
      " 6   Reach                             151 non-null    int64  \n",
      " 7   Impressions                       151 non-null    int64  \n",
      " 8   Cost per Result                   151 non-null    float64\n",
      " 9   Amount Spent (INR)                151 non-null    float64\n",
      " 10  Frequency                         151 non-null    object \n",
      " 11  Clicks (All)                      151 non-null    int64  \n",
      " 12  CPC (All)                         151 non-null    float64\n",
      " 13  CTR (All)                         151 non-null    float64\n",
      " 14  CPM (Cost per 1,000 Impressions)  151 non-null    float64\n",
      " 15  Adset_Name                        151 non-null    object \n",
      " 16  Dept                              151 non-null    object \n",
      " 17  Target                            151 non-null    object \n",
      "dtypes: float64(6), int64(3), object(9)\n",
      "memory usage: 22.4+ KB\n"
     ]
    }
   ],
   "source": [
    "data.info(verbose=1)"
   ]
  },
  {
   "cell_type": "code",
   "execution_count": null,
   "metadata": {},
   "outputs": [],
   "source": []
  },
  {
   "cell_type": "code",
   "execution_count": 29,
   "metadata": {},
   "outputs": [],
   "source": [
    "data.to_csv('1. Clean_Data_age_gender.csv',index=False)"
   ]
  },
  {
   "cell_type": "markdown",
   "metadata": {},
   "source": [
    "## Now our data is clean. Here are our features that we will use for analysis\n",
    "\n",
    "- **1. Campaign Name** - Name of campaign\n",
    "- **2. Ad Set Name** - Targeting\n",
    "- **3. Age** - Age of end user\n",
    "- **4. Gender** - Gender of end user\n",
    "- **5. Results** - How many conversions were achieved\n",
    "- **6. Cost per result** - Average Cost required for 1 conversion\n",
    "- **7. Amount spent** - How much money was spent on ad campaign\n",
    "- **8. CTR** - Click Through Rate\n",
    "- **9. CPM** - Cost per 1000 impressions\n",
    "- **10. Result Rate** - Conversion Rate\n",
    "- **11. Frequency** - On an average how many times did one user see the ad\n",
    "- **12. Ad Format** - Whether the ad crative is **Image/Video/Carousel**\n",
    "- **13. Ad Gender** - Gender of the person on creative\n",
    "- **14. Ad Headline** - The headline used in ad\n",
    "\n",
    "So, our target variable here is **Results** and we will analyse the effect of other variable on our target variable."
   ]
  },
  {
   "cell_type": "markdown",
   "metadata": {},
   "source": [
    "# 4. Relationship Visualization"
   ]
  },
  {
   "cell_type": "markdown",
   "metadata": {},
   "source": [
    "## 1. Effect of Ad Headline + Age + Gender on Engagement & Conversion"
   ]
  },
  {
   "cell_type": "markdown",
   "metadata": {},
   "source": [
    "### Generic View"
   ]
  },
  {
   "cell_type": "code",
   "execution_count": 30,
   "metadata": {},
   "outputs": [],
   "source": [
    "data = data.sort_values(by=['Age']) "
   ]
  },
  {
   "cell_type": "code",
   "execution_count": 31,
   "metadata": {
    "scrolled": false
   },
   "outputs": [
    {
     "data": {
      "image/png": "[encoded data removed]",
      "text/plain": [
       "<Figure size 2160x504 with 6 Axes>"
      ]
     },
     "metadata": {
      "needs_background": "light"
     },
     "output_type": "display_data"
    }
   ],
   "source": [
    "# increase figure size \n",
    "plt.figure(figsize=(30, 7))\n",
    "\n",
    "# subplot 1\n",
    "plt.subplot(1, 6, 1)\n",
    "sns.barplot(y='Age', x='Amount Spent (INR)',hue='Gender', data=data, estimator=np.sum,ci=None)\n",
    "plt.title(\"Total Amount Spent\")\n",
    "plt.xticks(rotation=90)\n",
    "\n",
    "\n",
    "# subplot 2\n",
    "plt.subplot(1, 6, 2)\n",
    "sns.barplot(y='Age', x='Clicks (All)', hue='Gender', data=data, estimator=np.sum,ci=None)\n",
    "plt.title(\"Total Clicks\")\n",
    "plt.xticks(rotation=90)\n",
    "\n",
    "# subplot 3\n",
    "plt.subplot(1, 6, 3)\n",
    "sns.barplot(y='Age', x='CTR (All)', hue='Gender', data=data, estimator=np.mean,ci=None)\n",
    "plt.title(\"CTR\")\n",
    "plt.xticks(rotation=90)\n",
    "\n",
    "# subplot 4\n",
    "plt.subplot(1, 6, 4)\n",
    "sns.barplot(y='Age', x='Results', hue='Gender', data=data, estimator=np.sum,ci=None)\n",
    "plt.title(\"Total Conversions\")\n",
    "plt.xticks(rotation=90)\n",
    "\n",
    "# subplot 5\n",
    "plt.subplot(1, 6, 5)\n",
    "sns.barplot(y='Age', x='Cost per Result', hue='Gender', data=data, estimator=np.mean,ci=None)\n",
    "plt.title(\"Avg. Cost per Result\")\n",
    "plt.xticks(rotation=90)\n",
    "\n",
    "# subplot 6\n",
    "plt.subplot(1,6, 6)\n",
    "sns.barplot(y='Age', x='Reach', hue='Gender', data=data, estimator=np.mean,ci=None)\n",
    "plt.title(\"Reach\")\n",
    "plt.xticks(rotation=90)\n",
    "\n",
    "\n",
    "plt.tight_layout(pad=0.7)\n",
    "plt.show()"
   ]
  },
  {
   "cell_type": "code",
   "execution_count": null,
   "metadata": {},
   "outputs": [],
   "source": []
  },
  {
   "cell_type": "markdown",
   "metadata": {},
   "source": [
    "### Let's Look at a Granular View"
   ]
  },
  {
   "cell_type": "code",
   "execution_count": null,
   "metadata": {
    "scrolled": false
   },
   "outputs": [],
   "source": []
  },
  {
   "cell_type": "code",
   "execution_count": 33,
   "metadata": {},
   "outputs": [
    {
     "data": {
      "text/plain": [
       "Text(0.5, 0.98, 'Avg. Click Through Rate (CTR) of Each Ad')"
      ]
     },
     "execution_count": 33,
     "metadata": {},
     "output_type": "execute_result"
    },
    {
     "data": {
      "image/png": "[encoded data removed]",
      "text/plain": [
       "<Figure size 2160x360 with 6 Axes>"
      ]
     },
     "metadata": {
      "needs_background": "light"
     },
     "output_type": "display_data"
    },
    {
     "data": {
      "image/png": "[encoded data removed]",
      "text/plain": [
       "<Figure size 2160x360 with 6 Axes>"
      ]
     },
     "metadata": {
      "needs_background": "light"
     },
     "output_type": "display_data"
    },
    {
     "data": {
      "image/png": "[encoded data removed]",
      "text/plain": [
       "<Figure size 2160x360 with 6 Axes>"
      ]
     },
     "metadata": {
      "needs_background": "light"
     },
     "output_type": "display_data"
    }
   ],
   "source": [
    "sns.catplot(y='Target',x='Amount Spent (INR)',col='Age',data=data,kind='bar', estimator=np.sum,ci=None)\n",
    "plt.subplots_adjust(top=0.85)\n",
    "plt.suptitle('Total Amount Spent on Each Ad',fontsize=20)\n",
    "\n",
    "sns.catplot(y='Target',x='Clicks (All)',col='Age',data=data,kind='bar', estimator=np.sum,ci=None)\n",
    "plt.subplots_adjust(top=0.85)\n",
    "plt.suptitle('Total Clicks on Each Ad',fontsize=20)\n",
    "\n",
    "sns.catplot(y='Target',x='CTR (All)',col='Age',data=data,kind='bar', estimator=np.mean,ci=None)\n",
    "plt.subplots_adjust(top=0.85)\n",
    "plt.suptitle('Avg. Click Through Rate (CTR) of Each Ad',fontsize=20)"
   ]
  },
  {
   "cell_type": "code",
   "execution_count": 52,
   "metadata": {},
   "outputs": [
    {
     "data": {
      "text/plain": [
       "Text(0.5, 0.98, 'Avg. Click Through Rate (CTR) of Each Ad')"
      ]
     },
     "execution_count": 52,
     "metadata": {},
     "output_type": "execute_result"
    },
    {
     "data": {
      "image/png": "[encoded data removed]",
      "text/plain": [
       "<Figure size 2160x360 with 6 Axes>"
      ]
     },
     "metadata": {
      "needs_background": "light"
     },
     "output_type": "display_data"
    },
    {
     "data": {
      "image/png": "[encoded data removed]",
      "text/plain": [
       "<Figure size 2160x360 with 6 Axes>"
      ]
     },
     "metadata": {
      "needs_background": "light"
     },
     "output_type": "display_data"
    },
    {
     "data": {
      "image/png": "[encoded data removed]",
      "text/plain": [
       "<Figure size 2160x360 with 6 Axes>"
      ]
     },
     "metadata": {
      "needs_background": "light"
     },
     "output_type": "display_data"
    }
   ],
   "source": [
    "sns.catplot(y='Dept',x='Amount Spent (INR)',col='Age',data=data,kind='bar', estimator=np.sum,ci=None)\n",
    "plt.subplots_adjust(top=0.85)\n",
    "plt.suptitle('Total Amount Spent on Each Ad',fontsize=20)\n",
    "\n",
    "sns.catplot(y='Dept',x='Clicks (All)',col='Age',data=data,kind='bar', estimator=np.sum,ci=None)\n",
    "plt.subplots_adjust(top=0.85)\n",
    "plt.suptitle('Total Clicks on Each Ad',fontsize=20)\n",
    "\n",
    "sns.catplot(y='Dept',x='CTR (All)',col='Age',data=data,kind='bar', estimator=np.mean,ci=None)\n",
    "plt.subplots_adjust(top=0.85)\n",
    "plt.suptitle('Avg. Click Through Rate (CTR) of Each Ad',fontsize=20)"
   ]
  },
  {
   "cell_type": "code",
   "execution_count": 34,
   "metadata": {},
   "outputs": [
    {
     "data": {
      "image/png": "[encoded data removed]",
      "text/plain": [
       "<Figure size 2160x504 with 6 Axes>"
      ]
     },
     "metadata": {
      "needs_background": "light"
     },
     "output_type": "display_data"
    }
   ],
   "source": [
    "plt.figure(figsize=(30, 7))\n",
    "\n",
    "# subplot 1\n",
    "plt.subplot(1, 6, 1)\n",
    "sns.barplot(y='Dept', x='Amount Spent (INR)',hue='Gender', data=data, estimator=np.sum,ci=None)\n",
    "plt.title(\"Total Amount Spent\")\n",
    "plt.xticks(rotation=90)\n",
    "\n",
    "\n",
    "# subplot 2\n",
    "plt.subplot(1, 6, 2)\n",
    "sns.barplot(y='Dept', x='Clicks (All)', hue='Gender', data=data, estimator=np.sum,ci=None)\n",
    "plt.title(\"Total Clicks\")\n",
    "plt.xticks(rotation=90)\n",
    "\n",
    "# subplot 3\n",
    "plt.subplot(1, 6, 3)\n",
    "sns.barplot(y='Dept', x='CTR (All)', hue='Gender', data=data, estimator=np.mean,ci=None)\n",
    "plt.title(\"CTR\")\n",
    "plt.xticks(rotation=90)\n",
    "\n",
    "# subplot 4\n",
    "plt.subplot(1, 6, 4)\n",
    "sns.barplot(y='Dept', x='Results', hue='Gender', data=data, estimator=np.sum,ci=None)\n",
    "plt.title(\"Total Conversions\")\n",
    "plt.xticks(rotation=90)\n",
    "\n",
    "# subplot 5\n",
    "plt.subplot(1, 6, 5)\n",
    "sns.barplot(y='Dept', x='Cost per Result', hue='Gender', data=data, estimator=np.mean,ci=None)\n",
    "plt.title(\"Avg. Cost per Result\")\n",
    "plt.xticks(rotation=90)\n",
    "\n",
    "# subplot 6\n",
    "plt.subplot(1,6, 6)\n",
    "sns.barplot(y='Dept', x='Reach', hue='Gender', data=data, estimator=np.mean,ci=None)\n",
    "plt.title(\"Reach\")\n",
    "plt.xticks(rotation=90)\n",
    "\n",
    "\n",
    "plt.tight_layout(pad=0.7)\n",
    "plt.show()"
   ]
  }
 ],
 "metadata": {
  "kernelspec": {
   "display_name": "Python 3",
   "language": "python",
   "name": "python3"
  },
  "language_info": {
   "codemirror_mode": {
    "name": "ipython",
    "version": 3
   },
   "file_extension": ".py",
   "mimetype": "text/x-python",
   "name": "python",
   "nbconvert_exporter": "python",
   "pygments_lexer": "ipython3",
   "version": "3.7.6"
  }
 },
 "nbformat": 4,
 "nbformat_minor": 2
}
